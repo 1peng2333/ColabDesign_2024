{
  "cells": [
    {
      "cell_type": "markdown",
      "metadata": {
        "id": "view-in-github",
        "colab_type": "text"
      },
      "source": [
        "<a href=\"https://colab.research.google.com/github/sokrypton/ColabDesign/blob/main/af/design.ipynb\" target=\"_parent\"><img src=\"https://colab.research.google.com/assets/colab-badge.svg\" alt=\"Open In Colab\"/></a>"
      ]
    },
    {
      "cell_type": "markdown",
      "metadata": {
        "id": "OA2k3sAYuiXe"
      },
      "source": [
        "#AfDesign (beta version)\n",
        "Backprop through AlphaFold for protein design.\n",
        "\n",
        "**WARNING**\n",
        "1.   This notebook is in active development and was designed for demonstration purposes only.\n",
        "2.   Using AfDesign as the only \"loss\" function for design might be a bad idea, you may find adversarial sequences (aka. sequences that trick AlphaFold).\n",
        "3.   The current setup is limited to max length of ~256 amino acids length.\n",
        "\n",
        "**CHANGE LOG**\n",
        "*   07Feb2022 - refactored the optimizer code. Changed the default to NSGD (normalized SGD to match TrDesign).\n",
        "*   08Feb2022 - fixed bug allowing msa design mode to work with `binder` design protocol\n",
        "*   19Feb2022 - making `dropout` a dynamic option (can be turned on/off and rescaled during optimization)\n",
        "*   20Feb2022 - `num_models`, `model_mode` and `model_parallel` options refactored."
      ]
    },
    {
      "cell_type": "code",
      "execution_count": null,
      "metadata": {
        "cellView": "form",
        "id": "-AXy0s_4cKaK"
      },
      "outputs": [],
      "source": [
        "#@title install\n",
        "%%bash\n",
        "if [ ! -d af_backprop ]; then\n",
        "  git clone https://github.com/sokrypton/af_backprop.git\n",
        "  pip -q install biopython dm-haiku==0.0.5 ml-collections py3Dmol\n",
        "fi\n",
        "if [ ! -d params ]; then\n",
        "  mkdir params\n",
        "  curl -fsSL https://storage.googleapis.com/alphafold/alphafold_params_2021-07-14.tar | tar x -C params\n",
        "fi\n",
        "wget -qnc https://raw.githubusercontent.com/sokrypton/ColabFold/main/beta/colabfold.py\n",
        "wget -qnc https://raw.githubusercontent.com/sokrypton/ColabDesign/main/af/design.py"
      ]
    },
    {
      "cell_type": "code",
      "execution_count": null,
      "metadata": {
        "cellView": "form",
        "id": "Vt7G_nbNeSQ3"
      },
      "outputs": [],
      "source": [
        "#@title import libraries\n",
        "import sys\n",
        "sys.path.append('/content/af_backprop')\n",
        "\n",
        "import os\n",
        "from google.colab import files\n",
        "import numpy as np\n",
        "from IPython.display import HTML\n",
        "from design import mk_design_model, clear_mem\n",
        "\n",
        "#########################\n",
        "def get_pdb(pdb_code=\"\"):\n",
        "  if pdb_code is None or pdb_code == \"\":\n",
        "    upload_dict = files.upload()\n",
        "    pdb_string = upload_dict[list(upload_dict.keys())[0]]\n",
        "    with open(\"tmp.pdb\",\"wb\") as out: out.write(pdb_string)\n",
        "    return \"tmp.pdb\"\n",
        "  else:\n",
        "    os.system(f\"wget -qnc https://files.rcsb.org/view/{pdb_code}.pdb\")\n",
        "    return f\"{pdb_code}.pdb\""
      ]
    },
    {
      "cell_type": "code",
      "execution_count": null,
      "metadata": {
        "cellView": "form",
        "id": "L-mvkjoJZRAN"
      },
      "outputs": [],
      "source": [
        "#@title ##define global options\n",
        "\n",
        "\n",
        "##############################################################\n",
        "# GET OPTIONS\n",
        "##############################################################\n",
        "#@markdown ###model options\n",
        "\n",
        "num_models = 1 #@param [\"1\", \"2\", \"3\", \"4\", \"5\"] {type:\"raw\"}\n",
        "#@markdown - `num_models` - number of model params to use at each iteration.\n",
        "model_mode = \"sample\" #@param [\"sample\", \"fixed\"]\n",
        "#@markdown - `sample` - randomly select models params to use. (Recommended)\n",
        "#@markdown - `fixed` - use the same model params each iteration.\n",
        "model_parallel = False #@param {type:\"boolean\"}\n",
        "#@markdown - `model_parallel` - run model params in parallel if `num_models` > 1. (may speedup run, if you have access to high-end GPU)\n",
        "\n",
        "\n",
        "#@markdown ###recycle options\n",
        "num_recycles = 0 #@param [\"0\", \"1\", \"2\", \"3\"] {type:\"raw\"}\n",
        "#@markdown - `num_recycles` - max number of recycles to use during design (for denovo proteins we find 0 is often enough)\n",
        "recycle_mode = \"sample\" #@param [\"sample\", \"add_prev\", \"last\", \"backprop\"]\n",
        "#@markdown - `sample` - at each iteration, randomly select number of recycles to use. (Recommended)\n",
        "#@markdown - `add_prev` - add prediction logits (dgram, pae, plddt) across all recycles. (Most stable, but slow and requires more memory).\n",
        "#@markdown - `last` - only use gradients from last recycle.\n",
        "#@markdown - `backprop` - use outputs from last recycle, but backprop through all recycles.\n",
        "\n",
        "\n",
        "OPT = {\"num_models\":num_models, \"model_mode\":model_mode, \"model_parallel\":model_parallel,\n",
        "       \"num_recycles\":num_recycles, \"recycle_mode\":recycle_mode}"
      ]
    },
    {
      "cell_type": "markdown",
      "metadata": {
        "id": "UUfKrOzT0gOS"
      },
      "source": [
        "# fixed backbone design (fixbb)\n",
        "For a given protein backbone, generate/design a new sequence that AlphaFold thinks folds into that conformation. \n",
        "\n",
        "---\n",
        "\n",
        "**weights of the model**\n",
        "- `dgram_cce` - minimizes the categorical-cross-entropy between predicted distogram (binned distance matrix) and one extracted from pdb\n",
        "- `fape`      - minimize difference between coordinates (see AlphaFold paper)\n",
        "- `pae`       - minimizes the predicted alignment error\n",
        "- `plddt`     - maximizes the predicted LDDT\n",
        "- `msa_ent`   - minimize entropy for MSA design (see example at the end of notebook)\n",
        "\n",
        "**notes**\n",
        "- `pae` and `plddt` values are between 0 and 1 (where lower is better for both)\n",
        "- we find `dgram_cce` loss to be more stable for design (compared to `fape`)\n",
        "- For **optimization** we provide 4 different functions:\n",
        " - `design_logits()` - optimize `logits` inputs (continious)\n",
        " - `design_prob()` - optimize `softmax(logits)` inputs (probabilities)\n",
        "\n",
        " For complex topologies, we find directly optimizing one_hot encoded sequence `design_prob(hard=True)` to be very challenging. To get around this problem, we propose optimizing in 2 or 3 stages.\n",
        " - `design_2stage()` - `prob` → `hard`\n",
        " - `design_3stage()` - `logits` → `prob` → `hard`\n"
      ]
    },
    {
      "cell_type": "code",
      "execution_count": null,
      "metadata": {
        "cellView": "form",
        "id": "qLd1DsnKzxBJ"
      },
      "outputs": [],
      "source": [
        "#@markdown inputs\n",
        "protocol = \"fixbb\"\n",
        "pdb_code = \"1TEN\" #@param {type:\"string\"}\n",
        "chain = \"A\" #@param [\"A\", \"B\", \"C\"] {allow-input: true}\n",
        "\n",
        "clear_mem()\n",
        "model = mk_design_model(**OPT, protocol=protocol)\n",
        "model.prep_inputs(pdb_filename=get_pdb(pdb_code), chain=chain)\n",
        "\n",
        "print(\"length\",  model._len)\n",
        "print(\"weights\", model.opt[\"weights\"])"
      ]
    },
    {
      "cell_type": "code",
      "source": [
        "# model.restart() is not needed the first time you run, but can be used to\n",
        "# restart trajectory without needing to recompile the model\n",
        "model.restart()\n",
        "model.design_3stage()"
      ],
      "metadata": {
        "id": "u0AwskJ84NGx"
      },
      "execution_count": null,
      "outputs": []
    },
    {
      "cell_type": "code",
      "source": [
        "model.plot_traj()  "
      ],
      "metadata": {
        "id": "8FB1v7dn1LL6"
      },
      "execution_count": null,
      "outputs": []
    },
    {
      "cell_type": "code",
      "execution_count": null,
      "metadata": {
        "id": "cW1KQiHKJpfp"
      },
      "outputs": [],
      "source": [
        "HTML(model.animate())"
      ]
    },
    {
      "cell_type": "code",
      "execution_count": null,
      "metadata": {
        "id": "YEApO8YzBoS0"
      },
      "outputs": [],
      "source": [
        "model.plot_pdb()"
      ]
    },
    {
      "cell_type": "code",
      "execution_count": null,
      "metadata": {
        "id": "ff3vjNFgBqc9"
      },
      "outputs": [],
      "source": [
        "model.save_pdb(f\"{pdb_code}.{model.protocol}.pdb\")"
      ]
    },
    {
      "cell_type": "markdown",
      "metadata": {
        "id": "q4qiU9I0QHSz"
      },
      "source": [
        "# hallucination\n",
        "For a given length, generate/hallucinate a protein sequence that AlphaFold thinks folds into a well structured protein (high plddt, low pae, many contacts).\n",
        "\n",
        "---\n",
        "**weights of the model**\n",
        "- `con` - maximize number of contacts. (We find just minimizing `plddt` results in single long helix, and maximizing `pae` results in a two helix bundle. To encourage compact structures we add a `con` term)\n"
      ]
    },
    {
      "cell_type": "code",
      "execution_count": null,
      "metadata": {
        "cellView": "form",
        "id": "sZnYfCbfEvol"
      },
      "outputs": [],
      "source": [
        "#@markdown inputs\n",
        "protocol = \"hallucination\"\n",
        "length =  100#@param {type:\"raw\"}\n",
        "copies =  1#@param {type:\"raw\"}\n",
        "\n",
        "clear_mem()\n",
        "model = mk_design_model(**OPT, protocol=protocol)\n",
        "model.prep_inputs(length=length, copies=copies)\n",
        "\n",
        "print(\"length\",model._len)\n",
        "print(\"weights\",model.opt[\"weights\"])"
      ]
    },
    {
      "cell_type": "code",
      "execution_count": null,
      "metadata": {
        "id": "73xVrlSo7o2Z"
      },
      "outputs": [],
      "source": [
        "###########################\n",
        "# For hallucination, default initialization often converges to all-helical proteins.\n",
        "# For this task, we recommend gumbel initialization w/ design_2stage()\n",
        "###########################\n",
        "model.restart(seq_init=\"gumbel\")\n",
        "model.design_2stage()"
      ]
    },
    {
      "cell_type": "code",
      "execution_count": null,
      "metadata": {
        "id": "L2E9Tn2Acchj"
      },
      "outputs": [],
      "source": [
        "HTML(model.animate())"
      ]
    },
    {
      "cell_type": "code",
      "execution_count": null,
      "metadata": {
        "id": "YSKWYu0_GlUH"
      },
      "outputs": [],
      "source": [
        "model.get_seqs()"
      ]
    },
    {
      "cell_type": "code",
      "execution_count": null,
      "metadata": {
        "id": "A1GxeLZdTTya"
      },
      "outputs": [],
      "source": [
        "model.plot_pdb()"
      ]
    },
    {
      "cell_type": "code",
      "execution_count": null,
      "metadata": {
        "id": "6uFe8i2Jn4bs"
      },
      "outputs": [],
      "source": [
        "model.save_pdb(f\"{model.protocol}.pdb\")"
      ]
    },
    {
      "cell_type": "markdown",
      "metadata": {
        "id": "dXfm4B8ISLuL"
      },
      "source": [
        "# binder hallucination\n",
        "For a given protein target and protein binder length, generate/hallucinate a protein binder sequence AlphaFold thinks will bind to the target structure. To do this, we minimize PAE and maximize number of contacts at the interface and within the binder, and we maximize pLDDT of the binder.\n",
        "\n",
        "---\n",
        "**weights of the model**\n",
        "- WARNING: the default weights were choosen arbitrary, it might help to change these!\n",
        "- `pae_inter` - minimize PAE interface of the proteins\n",
        "- `pae_intra` - minimize PAE within binder\n",
        "- `con_inter` - maximize number of contacts at the interface of the proteins\n",
        "- `con_intra` - maximize number of contacts within binder"
      ]
    },
    {
      "cell_type": "code",
      "execution_count": null,
      "metadata": {
        "cellView": "form",
        "id": "3XLJPiRKx5Mw"
      },
      "outputs": [],
      "source": [
        "#@markdown inputs\n",
        "protocol = \"binder\"\n",
        "pdb_code = \"4MZK\" #@param {type:\"string\"}\n",
        "chain = \"A\" #@param [\"A\", \"B\", \"C\"] {allow-input: true}\n",
        "binder_length =  19#@param {type:\"integer\"}\n",
        "\n",
        "clear_mem()\n",
        "model = mk_design_model(**OPT, protocol=protocol)\n",
        "model.prep_inputs(pdb_filename=get_pdb(pdb_code), chain=chain,\n",
        "                         binder_len=binder_length)\n",
        "\n",
        "print(\"target_length\",model._target_len)\n",
        "print(\"binder_length\",model._binder_len)\n",
        "print(\"weights\",model.opt[\"weights\"])"
      ]
    },
    {
      "cell_type": "code",
      "execution_count": null,
      "metadata": {
        "id": "u6VxjuinyCZa"
      },
      "outputs": [],
      "source": [
        "model.restart()\n",
        "model.design_2stage()"
      ]
    },
    {
      "cell_type": "code",
      "execution_count": null,
      "metadata": {
        "id": "9cARoviGyIKb"
      },
      "outputs": [],
      "source": [
        "HTML(model.animate())"
      ]
    },
    {
      "cell_type": "code",
      "source": [
        "model.get_seqs()"
      ],
      "metadata": {
        "id": "RzE137NDZdZc"
      },
      "execution_count": null,
      "outputs": []
    },
    {
      "cell_type": "code",
      "source": [
        "model.plot_pdb()"
      ],
      "metadata": {
        "id": "sTlS7_L8Zfwf"
      },
      "execution_count": null,
      "outputs": []
    },
    {
      "cell_type": "code",
      "source": [
        "model.save_pdb(f\"{model.protocol}.pdb\")"
      ],
      "metadata": {
        "id": "WmA-ACTfZilA"
      },
      "execution_count": null,
      "outputs": []
    }
  ],
  "metadata": {
    "accelerator": "GPU",
    "colab": {
      "collapsed_sections": [
        "q4qiU9I0QHSz"
      ],
      "name": "design.ipynb",
      "provenance": [],
      "include_colab_link": true
    },
    "kernelspec": {
      "display_name": "Python 3",
      "name": "python3"
    },
    "language_info": {
      "name": "python"
    }
  },
  "nbformat": 4,
  "nbformat_minor": 0
}