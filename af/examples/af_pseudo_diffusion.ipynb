{
  "cells": [
    {
      "cell_type": "markdown",
      "metadata": {
        "id": "view-in-github",
        "colab_type": "text"
      },
      "source": [
        "<a href=\"https://colab.research.google.com/github/sokrypton/ColabDesign/blob/v1.1.1/af/examples/af_pseudo_diffusion.ipynb\" target=\"_parent\"><img src=\"https://colab.research.google.com/assets/colab-badge.svg\" alt=\"Open In Colab\"/></a>"
      ]
    },
    {
      "cell_type": "markdown",
      "metadata": {
        "id": "VD9K5H2cnFxL"
      },
      "source": [
        "#AF_pseudo_diffusion + proteinMPNN\n",
        "Hacking AlphaFold to be a diffusion model (for backbone generation). At each step add logits from proteinMPNN.\n",
        "\n",
        "\n",
        "**WARNING**: This notebook is experimental, designed a control. Not intended for practical use at this stage."
      ]
    },
    {
      "cell_type": "code",
      "execution_count": null,
      "metadata": {
        "cellView": "form",
        "id": "YCRzPGdTZfEe"
      },
      "outputs": [],
      "source": [
        "#@title setup\n",
        "%%time\n",
        "import os\n",
        "if not os.path.isdir(\"params\"):\n",
        "  # get code\n",
        "  os.system(\"pip -q install git+https://github.com/sokrypton/ColabDesign.git@v1.1.1\")\n",
        "  # for debugging\n",
        "  os.system(\"ln -s /usr/local/lib/python3.7/dist-packages/colabdesign colabdesign\")\n",
        "  # download params\n",
        "  os.system(\"mkdir params\")\n",
        "  os.system(\"apt-get install aria2 -qq\")\n",
        "  os.system(\"aria2c -q -x 16 https://storage.googleapis.com/alphafold/alphafold_params_2022-03-02.tar\")\n",
        "  os.system(\"tar -xf alphafold_params_2022-03-02.tar -C params\")\n",
        "\n",
        "import warnings\n",
        "warnings.simplefilter(action='ignore', category=FutureWarning)\n",
        "\n",
        "import os\n",
        "from colabdesign import mk_afdesign_model, clear_mem\n",
        "from colabdesign.mpnn import mk_mpnn_model\n",
        "from IPython.display import HTML\n",
        "from google.colab import files\n",
        "import numpy as np"
      ]
    },
    {
      "cell_type": "code",
      "execution_count": null,
      "metadata": {
        "id": "wxYMB4A9Zmrf",
        "cellView": "form"
      },
      "outputs": [],
      "source": [
        "#@title initialize the model\n",
        "length = 100 #@param {type:\"integer\"}\n",
        "clear_mem()\n",
        "af_model = mk_afdesign_model(protocol=\"hallucination\", use_templates=True)\n",
        "af_model.prep_inputs(length=length)\n",
        "mpnn_model = mk_mpnn_model()"
      ]
    },
    {
      "cell_type": "code",
      "execution_count": null,
      "metadata": {
        "id": "3Dt8i00UbxtW",
        "cellView": "form"
      },
      "outputs": [],
      "source": [
        "#@title run protocol\n",
        "iterations = 100 #@param [\"50\", \"100\"] {type:\"raw\"}\n",
        "noise_xyz = 1.0 #@param [\"0.0\", \"1.0\", \"2.0\"] {type:\"raw\"}\n",
        "rm_template_seq = True #@param {type:\"boolean\"}\n",
        "#@markdown proteinMPNN options\n",
        "mpnn_fract = 0.1 #@param [\"0\", \"0.1\"] {type:\"raw\"}\n",
        "mpnn_mode = \"conditional\" #@param [\"conditional\", \"unconditional\"]\n",
        "#@markdown - set `mpnn_fract` to `0` to disable proteinmpnn\n",
        "\n",
        "af_model.restart(mode=\"gumbel\")\n",
        "af_model._inputs[\"rm_template_seq\"] = rm_template_seq\n",
        "L = sum(af_model._lengths)\n",
        "af_model._inputs[\"batch\"] = {\"aatype\":np.zeros(L).astype(int),\n",
        "                             \"all_atom_mask\":np.ones((L,37)),\n",
        "                             \"all_atom_positions\":np.random.normal(size=(L,37,3))}\n",
        "\n",
        "for k in range(iterations):\n",
        "  # add noise\n",
        "  if noise_xyz > 0:\n",
        "    n = np.random.normal(size=(L,37,3)) * noise_xyz * (1-k/iterations)\n",
        "    af_model._inputs[\"batch\"][\"all_atom_positions\"] += n\n",
        "\n",
        "  # denoise\n",
        "  aux = af_model.predict(return_aux=True, verbose=False)\n",
        "\n",
        "  # update inputs\n",
        "  af_model._inputs[\"batch\"][\"aatype\"] = af_model.aux[\"seq\"][\"hard\"].argmax(-1)[0]\n",
        "  af_model._inputs[\"batch\"][\"all_atom_positions\"] = af_model.aux[\"atom_positions\"].copy()\n",
        "\n",
        "  # add logits from proteinmpnn at each stage\n",
        "  if mpnn_fract > 0:\n",
        "    mpnn_model.get_af_inputs(af_model)\n",
        "    opt = {} if mpnn_mode == \"conditional\" else {\"ar_mask\":np.zeros((L,L))}\n",
        "    mpnn_out = mpnn_model.score(**opt)\n",
        "    aux[\"log\"][\"mpnn\"] = mpnn_out[\"score\"]\n",
        "    mpnn_logits = mpnn_out[\"logits\"][:,:20]\n",
        "    m = mpnn_fract * k/iterations\n",
        "    af_model._params[\"seq\"] = (1-m) * af_model._params[\"seq\"] + m * mpnn_logits\n",
        "  \n",
        "  # save results\n",
        "  af_model._save_results(aux)\n",
        "  af_model._k += 1"
      ]
    },
    {
      "cell_type": "code",
      "execution_count": null,
      "metadata": {
        "id": "v3dPQeEQcAcT"
      },
      "outputs": [],
      "source": [
        "af_model.plot_pdb()"
      ]
    },
    {
      "cell_type": "code",
      "source": [
        "af_model.save_pdb(f\"tmp.pdb\")\n",
        "af_model.get_seqs()"
      ],
      "metadata": {
        "id": "6Ck-ME5_99qE"
      },
      "execution_count": null,
      "outputs": []
    },
    {
      "cell_type": "code",
      "execution_count": null,
      "metadata": {
        "id": "6cJhizcYcUxm"
      },
      "outputs": [],
      "source": [
        "HTML(af_model.animate(dpi=100))"
      ]
    }
  ],
  "metadata": {
    "accelerator": "GPU",
    "colab": {
      "provenance": [],
      "include_colab_link": true
    },
    "gpuClass": "standard",
    "kernelspec": {
      "display_name": "Python 3",
      "name": "python3"
    },
    "language_info": {
      "name": "python"
    }
  },
  "nbformat": 4,
  "nbformat_minor": 0
}