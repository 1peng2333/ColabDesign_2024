{
  "cells": [
    {
      "cell_type": "markdown",
      "metadata": {
        "id": "view-in-github",
        "colab_type": "text"
      },
      "source": [
        "<a href=\"https://colab.research.google.com/github/sokrypton/ColabDesign/blob/beta/af/examples/partial_hallucination_rewire.ipynb\" target=\"_parent\"><img src=\"https://colab.research.google.com/assets/colab-badge.svg\" alt=\"Open In Colab\"/></a>"
      ]
    },
    {
      "cell_type": "markdown",
      "metadata": {
        "id": "OA2k3sAYuiXe"
      },
      "source": [
        "# Rewire"
      ]
    },
    {
      "cell_type": "code",
      "execution_count": null,
      "metadata": {
        "cellView": "form",
        "id": "-AXy0s_4cKaK"
      },
      "outputs": [],
      "source": [
        "#@title install\n",
        "%%bash\n",
        "if [ ! -d params ]; then\n",
        "  pip -q install git+https://github.com/sokrypton/af_backprop.git\n",
        "  pip -q install git+https://github.com/sokrypton/ColabDesign.git@beta\n",
        "  mkdir params\n",
        "  curl -fsSL https://storage.googleapis.com/alphafold/alphafold_params_2021-07-14.tar | tar x -C params\n",
        "fi"
      ]
    },
    {
      "cell_type": "code",
      "execution_count": null,
      "metadata": {
        "cellView": "form",
        "id": "Vt7G_nbNeSQ3"
      },
      "outputs": [],
      "source": [
        "#@title import libraries\n",
        "import os\n",
        "from af import mk_design_model, clear_mem\n",
        "from IPython.display import HTML\n",
        "from google.colab import files\n",
        "import numpy as np\n",
        "\n",
        "#########################\n",
        "def get_pdb(pdb_code=\"\"):\n",
        "  if pdb_code is None or pdb_code == \"\":\n",
        "    upload_dict = files.upload()\n",
        "    pdb_string = upload_dict[list(upload_dict.keys())[0]]\n",
        "    with open(\"tmp.pdb\",\"wb\") as out: out.write(pdb_string)\n",
        "    return \"tmp.pdb\"\n",
        "  else:\n",
        "    os.system(f\"wget -qnc https://files.rcsb.org/view/{pdb_code}.pdb\")\n",
        "    return f\"{pdb_code}.pdb\""
      ]
    },
    {
      "cell_type": "markdown",
      "source": [
        "# partial hallucination"
      ],
      "metadata": {
        "id": "fCZrp2qFBSdb"
      }
    },
    {
      "cell_type": "code",
      "source": [
        "# setup the model\n",
        "clear_mem()\n",
        "model = mk_design_model(protocol=\"partial\",\n",
        "                        use_templates=False) # set True, to constrain positions using template input"
      ],
      "metadata": {
        "id": "_8dXKaFRCvCv"
      },
      "execution_count": null,
      "outputs": []
    },
    {
      "cell_type": "code",
      "source": [
        "# define positions we want to restrain/constrain\n",
        "old_pos = \"4-9,13-26,30-33,37-50,54-59,63-76,80-84,112-125\"\n",
        "\n",
        "model.prep_inputs(get_pdb(\"2MR5\"), chain=\"A\",\n",
        "                  pos=old_pos,               # define positions\n",
        "                  length=100,                # define if the desire length is different from input PDB\n",
        "                  fix_seq=False,             # set True, to constrain the sequence\n",
        "                  sidechains=False)          # set True, to constrain the sidechains"
      ],
      "metadata": {
        "id": "ILfYkP4TQVtK"
      },
      "execution_count": null,
      "outputs": []
    },
    {
      "cell_type": "code",
      "source": [
        "# get length for each segment\n",
        "seg_len = [b-a+1 for a,b in [[int(x) for x in r.split(\"-\")] for r in old_pos.split(\",\")]]\n",
        "\n",
        "# define order of segments\n",
        "new_order = [ 1,2,3,0,7,4,5,6]\n",
        "\n",
        "# define loop lengths between segments (including \"loop\" before/after)\n",
        "loop_len =  [0,3,3,3,4,3,3,4,0]\n",
        "\n",
        "# set positions we want to restrain/constrain within hallucinated protein \n",
        "l,new_pos = loop_len[0],[]\n",
        "for n,i in enumerate(np.argsort(new_order)):\n",
        "  new_pos.append(l + np.arange(seg_len[i]))\n",
        "  l += seg_len[i] + loop_len[n+1]\n",
        "new_pos = np.concatenate([new_pos[i] for i in new_order])"
      ],
      "metadata": {
        "id": "bDA8cPqMT_eY"
      },
      "execution_count": null,
      "outputs": []
    },
    {
      "cell_type": "code",
      "source": [
        "# restart optimization\n",
        "model.restart()\n",
        "# set positions (if different from PDB)\n",
        "model.opt[\"pos\"] = new_pos\n",
        "# balance weights dgram_cce=restraint weight, con=hallucination weight\n",
        "model.opt[\"weights\"].update({\"dgram_cce\":1.0,\"con\":0.1})\n",
        "model.design_3stage(200,100,10)"
      ],
      "metadata": {
        "id": "cnpUuSa8G35m"
      },
      "execution_count": null,
      "outputs": []
    },
    {
      "cell_type": "code",
      "source": [
        "HTML(model.animate(dpi=100))"
      ],
      "metadata": {
        "id": "9sjG7kvoHaVi"
      },
      "execution_count": null,
      "outputs": []
    },
    {
      "cell_type": "code",
      "source": [
        "model.save_pdb(f\"{model.protocol}.pdb\")\n",
        "model.plot_pdb()"
      ],
      "metadata": {
        "id": "qFegtgcnHdqr"
      },
      "execution_count": null,
      "outputs": []
    }
  ],
  "metadata": {
    "accelerator": "GPU",
    "colab": {
      "collapsed_sections": [
        "q4qiU9I0QHSz"
      ],
      "name": "partial_hallucination_rewire.ipynb",
      "provenance": [],
      "include_colab_link": true
    },
    "kernelspec": {
      "display_name": "Python 3",
      "name": "python3"
    },
    "language_info": {
      "name": "python"
    }
  },
  "nbformat": 4,
  "nbformat_minor": 0
}