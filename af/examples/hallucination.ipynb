{
  "cells": [
    {
      "cell_type": "markdown",
      "metadata": {
        "id": "view-in-github",
        "colab_type": "text"
      },
      "source": [
        "<a href=\"https://colab.research.google.com/github/sokrypton/ColabDesign/blob/beta/af/examples/hallucination.ipynb\" target=\"_parent\"><img src=\"https://colab.research.google.com/assets/colab-badge.svg\" alt=\"Open In Colab\"/></a>"
      ]
    },
    {
      "cell_type": "markdown",
      "metadata": {
        "id": "OA2k3sAYuiXe"
      },
      "source": [
        "# AfDesign - hallucination\n",
        "For a given length, generate/hallucinate a protein sequence that AlphaFold thinks folds into a well structured protein (high plddt, low pae, many contacts).\n",
        "\n",
        "**WARNING**\n",
        "1.   This notebook is in active development and was designed for demonstration purposes only.\n",
        "2.   Using AfDesign as the only \"loss\" function for design might be a bad idea, you may find adversarial sequences (aka. sequences that trick AlphaFold)."
      ]
    },
    {
      "cell_type": "code",
      "execution_count": 1,
      "metadata": {
        "cellView": "form",
        "id": "-AXy0s_4cKaK"
      },
      "outputs": [],
      "source": [
        "#@title install\n",
        "%%bash\n",
        "if [ ! -d params ]; then\n",
        "  pip -q install git+https://github.com/sokrypton/af_backprop.git\n",
        "  pip -q install git+https://github.com/sokrypton/ColabDesign.git\n",
        "  mkdir params\n",
        "  curl -fsSL https://storage.googleapis.com/alphafold/alphafold_params_2021-07-14.tar | tar x -C params\n",
        "fi"
      ]
    },
    {
      "cell_type": "code",
      "execution_count": 2,
      "metadata": {
        "cellView": "form",
        "id": "Vt7G_nbNeSQ3"
      },
      "outputs": [],
      "source": [
        "#@title import libraries\n",
        "import warnings\n",
        "warnings.simplefilter(action='ignore', category=FutureWarning)\n",
        "\n",
        "import os\n",
        "from af import mk_design_model, clear_mem\n",
        "from IPython.display import HTML\n",
        "from google.colab import files\n",
        "import numpy as np\n",
        "\n",
        "#########################\n",
        "def get_pdb(pdb_code=\"\"):\n",
        "  if pdb_code is None or pdb_code == \"\":\n",
        "    upload_dict = files.upload()\n",
        "    pdb_string = upload_dict[list(upload_dict.keys())[0]]\n",
        "    with open(\"tmp.pdb\",\"wb\") as out: out.write(pdb_string)\n",
        "    return \"tmp.pdb\"\n",
        "  else:\n",
        "    os.system(f\"wget -qnc https://files.rcsb.org/view/{pdb_code}.pdb\")\n",
        "    return f\"{pdb_code}.pdb\""
      ]
    },
    {
      "cell_type": "code",
      "source": [
        "#@title Hallucination Options\n",
        "length =  100#@param {type:\"integer\"}\n",
        "copies =  1\n",
        "#@markdown ####Weights\n",
        "#@markdown - Minimizing `pae` or maximizing `plddt` often results in a single helix.\n",
        "#@markdown To avoid this, we start with a random sequence and instead try to optimize \n",
        "#@markdown defined `num`ber of `con`tacts per position. \n",
        "pae = 0.01 #@param [\"0.01\", \"0.2\", \"0.4\", \"0.6\", \"0.8\", \"1.0\"] {type:\"raw\"}\n",
        "plddt = 0.01 #@param [\"0.01\", \"0.2\", \"0.4\", \"0.6\", \"0.8\", \"1.0\"] {type:\"raw\"}\n",
        "helix = 0.0 \n",
        "con = 1.0 #@param [\"0.01\", \"0.2\", \"0.4\", \"0.6\", \"0.8\", \"1.0\"] {type:\"raw\"}\n",
        "#@markdown ####Contact Definition\n",
        "#@markdown - The contact definition is based on Cb-Cb diststance `cutoff`. To avoid \n",
        "#@markdown biasing towards helical contact, only contacts with sequence seperation > \n",
        "#@markdown `seqsep` are considered.\n",
        "\n",
        "\n",
        "seqsep = 9 #@param [\"0\",\"5\",\"9\"] {type:\"raw\"}\n",
        "cutoff = \"14\" #@param [\"8\", \"14\", \"max\"]\n",
        "num = \"2\" #@param [\"1\", \"2\", \"4\", \"8\", \"max\"]\n",
        "binary = False #@param {type:\"boolean\"}\n",
        "if cutoff == \"max\": cutoff = 21.6875\n",
        "if num == \"max\": num = length\n",
        "\n",
        "opt = {\"con\":{\"seqsep\":int(seqsep),\"cutoff\":float(cutoff),\"num\":int(num),\n",
        "              \"binary\":binary,\"entropy\":True}}\n",
        "weights = {\"con\":float(con),\"helix\":float(helix),\n",
        "           \"pae\":float(pae),\"plddt\":float(plddt)}\n",
        "\n",
        "if \"model\" not in dir() or model._len != length or model._copies != copies:\n",
        "  clear_mem()\n",
        "  model = mk_design_model(protocol=\"hallucination\")\n",
        "  model.prep_inputs(length=length, copies=copies)\n",
        "\n",
        "# pre-design with gumbel initialization and softmax activation\n",
        "model.restart(mode=\"gumbel\",opt=opt,weights=weights)\n",
        "model.design(50, soft=True)\n",
        "\n",
        "# three stage design  \n",
        "model.restart(seq_init=model._outs[\"seq\"][\"pseudo\"],\n",
        "              keep_history=True, opt=opt,weights=weights)\n",
        "model.design_3stage(50,50,10)"
      ],
      "metadata": {
        "cellView": "form",
        "id": "eCGc3J663NGz"
      },
      "execution_count": null,
      "outputs": []
    },
    {
      "cell_type": "code",
      "execution_count": null,
      "metadata": {
        "id": "A1GxeLZdTTya"
      },
      "outputs": [],
      "source": [
        "model.save_pdb(f\"{model.protocol}.pdb\")\n",
        "model.plot_pdb()"
      ]
    },
    {
      "cell_type": "code",
      "execution_count": null,
      "metadata": {
        "id": "L2E9Tn2Acchj"
      },
      "outputs": [],
      "source": [
        "HTML(model.animate())"
      ]
    },
    {
      "cell_type": "code",
      "execution_count": null,
      "metadata": {
        "id": "YSKWYu0_GlUH"
      },
      "outputs": [],
      "source": [
        "model.get_seqs()"
      ]
    }
  ],
  "metadata": {
    "accelerator": "GPU",
    "colab": {
      "collapsed_sections": [
        "q4qiU9I0QHSz"
      ],
      "name": "hallucination.ipynb",
      "provenance": [],
      "include_colab_link": true
    },
    "kernelspec": {
      "display_name": "Python 3",
      "name": "python3"
    },
    "language_info": {
      "name": "python"
    }
  },
  "nbformat": 4,
  "nbformat_minor": 0
}